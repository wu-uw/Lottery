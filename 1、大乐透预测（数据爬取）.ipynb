{
 "cells": [
  {
   "cell_type": "markdown",
   "metadata": {},
   "source": [
    "# 0、准备工作"
   ]
  },
  {
   "cell_type": "code",
   "execution_count": 1,
   "metadata": {},
   "outputs": [],
   "source": [
    "import requests,urllib,urllib.error,json\n",
    "from bs4 import BeautifulSoup #页面解析，获取数据\n",
    "import re\n",
    "import xlwt"
   ]
  },
  {
   "cell_type": "markdown",
   "metadata": {},
   "source": [
    "##  得到一个指定内容的url网页"
   ]
  },
  {
   "cell_type": "markdown",
   "metadata": {},
   "source": [
    "https://www.lottery.gov.cn/kj/kjlb.html?dlt  原网页"
   ]
  },
  {
   "cell_type": "code",
   "execution_count": 2,
   "metadata": {},
   "outputs": [],
   "source": [
    "def askURL(url):\n",
    "    headers = {\n",
    "        \"User-Agent\": \"Mozilla/5.0 (Windows NT 10.0; Win64; x64) AppleWebKit/537.36 (KHTML, like Gecko) Chrome/70.0.3538.77 Safari/537.36\"\n",
    "    }\n",
    "    request = urllib.request.Request(url,headers=headers)\n",
    "    html = \"\"\n",
    "    try:\n",
    "        reponse = urllib.request.urlopen(request)\n",
    "        html = reponse.read().decode('utf-8')\n",
    "        #print(html)\n",
    "    except urllib.error.URLError as e:\n",
    "        if hasattr(e,\"code\"):\n",
    "            print(e.code)\n",
    "        if hasattr(e,\"reason\"):\n",
    "            print(e.reason)\n",
    "    return html"
   ]
  },
  {
   "cell_type": "markdown",
   "metadata": {},
   "source": [
    "# 1、爬取网页   2、解析数据   "
   ]
  },
  {
   "cell_type": "code",
   "execution_count": 3,
   "metadata": {},
   "outputs": [],
   "source": [
    "baseurl = \"https://webapi.sporttery.cn/gateway/lottery/getHistoryPageListV1.qry?gameNo=85&provinceId=0&pageSize=30&isVerify=1&pageNo=\""
   ]
  },
  {
   "cell_type": "code",
   "execution_count": 4,
   "metadata": {},
   "outputs": [],
   "source": [
    "def getData(baseurl):\n",
    "    datalist = []\n",
    "    for item in range(1,71):\n",
    "        url = baseurl +str(item)\n",
    "        \n",
    "        html = askURL(url)   #保存获取到的网页源码\n",
    "        \n",
    "        #逐一解析数据\n",
    "        js = json.loads(html)\n",
    "        for i in js['value']['list']:\n",
    "            data = []\n",
    "            lotteryDrawNum = i['lotteryDrawNum']\n",
    "            data.append(lotteryDrawNum)\n",
    "            lotteryDrawTime = i['lotteryDrawTime']\n",
    "            data.append(lotteryDrawTime)\n",
    "            lotteryDrawResult = i['lotteryDrawResult']\n",
    "            data.append(lotteryDrawResult)\n",
    "            #print(data)\n",
    "            datalist.append(data)\n",
    "    print(\"爬取完毕！\")\n",
    "        \n",
    "    return datalist\n"
   ]
  },
  {
   "cell_type": "markdown",
   "metadata": {},
   "source": [
    "# 3、保存数据"
   ]
  },
  {
   "cell_type": "code",
   "execution_count": 5,
   "metadata": {},
   "outputs": [],
   "source": [
    "def saveData(datalist,savepath):\n",
    "    book = xlwt.Workbook(encoding='utf-8',style_compression=0)  #创建book对象\n",
    "    sheet = book.add_sheet('大乐透',cell_overwrite_ok = True)   #创建工作表\n",
    "    col = ('期数',\"日期\",\"前区1\",\"前区2\",\"前区3\",\"前区4\",\"前区5\",\"后区1\",\"后区2\")\n",
    "    for i in range(0,len(col)):\n",
    "        sheet.write(0,i,col[i])  #列名\n",
    "    for i in range(0,len(datalist)):\n",
    "        data = datalist[i]\n",
    "        sheet.write(i+1,0,data[0])    #期数\n",
    "        sheet.write(i+1,1,data[1])    #日期\n",
    "        for j in range(2,len(col)):   #数字\n",
    "            sheet.write(i+1,j,data[2].split()[j-2])\n",
    "    \n",
    "    book.save('大乐透.xlsx')"
   ]
  },
  {
   "cell_type": "markdown",
   "metadata": {},
   "source": [
    "# 4、执行"
   ]
  },
  {
   "cell_type": "code",
   "execution_count": 6,
   "metadata": {
    "scrolled": true
   },
   "outputs": [
    {
     "name": "stdout",
     "output_type": "stream",
     "text": [
      "爬取完毕！\n"
     ]
    }
   ],
   "source": [
    "datalist = getData(baseurl)"
   ]
  },
  {
   "cell_type": "code",
   "execution_count": 7,
   "metadata": {},
   "outputs": [],
   "source": [
    "savepath = './'\n",
    "saveData(datalist,savepath)"
   ]
  },
  {
   "cell_type": "code",
   "execution_count": null,
   "metadata": {},
   "outputs": [],
   "source": []
  },
  {
   "cell_type": "code",
   "execution_count": null,
   "metadata": {},
   "outputs": [],
   "source": []
  }
 ],
 "metadata": {
  "kernelspec": {
   "display_name": "Python [conda env:myenvs] *",
   "language": "python",
   "name": "conda-env-myenvs-py"
  },
  "language_info": {
   "codemirror_mode": {
    "name": "ipython",
    "version": 3
   },
   "file_extension": ".py",
   "mimetype": "text/x-python",
   "name": "python",
   "nbconvert_exporter": "python",
   "pygments_lexer": "ipython3",
   "version": "3.7.6"
  }
 },
 "nbformat": 4,
 "nbformat_minor": 4
}
